{
  "nbformat": 4,
  "nbformat_minor": 0,
  "metadata": {
    "colab": {
      "provenance": [],
      "authorship_tag": "ABX9TyPqYK8efzVphs6UINuXvrJn",
      "include_colab_link": true
    },
    "kernelspec": {
      "name": "python3",
      "display_name": "Python 3"
    },
    "language_info": {
      "name": "python"
    }
  },
  "cells": [
    {
      "cell_type": "markdown",
      "metadata": {
        "id": "view-in-github",
        "colab_type": "text"
      },
      "source": [
        "<a href=\"https://colab.research.google.com/github/ViswaTeji/Python-Assignments-sep21/blob/main/Assignments_week1.ipynb\" target=\"_parent\"><img src=\"https://colab.research.google.com/assets/colab-badge.svg\" alt=\"Open In Colab\"/></a>"
      ]
    },
    {
      "cell_type": "code",
      "execution_count": 5,
      "metadata": {
        "colab": {
          "base_uri": "https://localhost:8080/"
        },
        "id": "EPgUQ01emBaL",
        "outputId": "8c5b671f-9ce9-48e1-d887-5d94e15cc6f6"
      },
      "outputs": [
        {
          "output_type": "stream",
          "name": "stdout",
          "text": [
            "2\n",
            "3\n",
            "8\n",
            "2,3 and 8 forms a not a triangle\n"
          ]
        }
      ],
      "source": [
        "#1. Write a Python Program classify_triangle that takes the lengths of the three sides of a triangle as input and returns\n",
        "#a string that describes the type of the triangle. The function should return one of the following strings: \"equilateral\", \"isosceles\",\n",
        "# \"scalene\", or \"not a triangle\".\n",
        "a=int(input())\n",
        "b=int(input())\n",
        "c=int(input())\n",
        "if a+b<=c or b+c<=a or a+c<=b or a==0 or b==0 or c==0:\n",
        "  print(f'{a},{b} and {c} forms not a triangle')\n",
        "elif a==b or b==c or a==c:\n",
        "  print(f'{a},{b} and {c} forms a isosceles')\n",
        "elif a==b==c:\n",
        "  print(f'{a},{b} and {c} forms a equilateral')\n",
        "else:\n",
        "  print(f'{a},{b} and {c} forms a scalene')\n",
        "\n",
        "\n"
      ]
    },
    {
      "cell_type": "code",
      "source": [
        "#2. Write a Python Program check_leap_year that takes a year as input and returns True if the year is a leap year, and False otherwise.\n",
        "# A year is a leap year if it is divisible by 4 unless it is divisible by 100. However,\n",
        "# if a year is divisible by 100 and also divisible by 400, then it is a leap year.\n",
        "year=int(input())\n",
        "def is_leap_year(year):\n",
        "  if (year%4==0 and year%100!=0) or year%400==0:\n",
        "    print(f\"{year} is a leap year\")\n",
        "    return True\n",
        "  else:\n",
        "    print(f\"{year} is not a leap year\")\n",
        "    return False\n",
        "is_leap_year(year)"
      ],
      "metadata": {
        "colab": {
          "base_uri": "https://localhost:8080/"
        },
        "id": "KfvFG6hCEW0J",
        "outputId": "5683571b-4af5-42f6-ce5e-e372a1121df9"
      },
      "execution_count": 46,
      "outputs": [
        {
          "output_type": "stream",
          "name": "stdout",
          "text": [
            "2023\n",
            "2023 is not a leap year\n"
          ]
        },
        {
          "output_type": "execute_result",
          "data": {
            "text/plain": [
              "False"
            ]
          },
          "metadata": {},
          "execution_count": 46
        }
      ]
    },
    {
      "cell_type": "code",
      "source": [
        "#3. Write a Python Program get_tax that takes a taxable income as input and returns the corresponding tax amount using the following scale:\n",
        "#$0 <= income <= $10,000: No tax\n",
        "#$10,001 <= income <= $50,000: 10% tax\n",
        "#$50,001 <= income <= $100,000: 20% tax\n",
        "#income > $100,000: 30% tax\n",
        "income=int(input())\n",
        "if income<=10000:\n",
        "  tax=0\n",
        "  print(\"No tax for income\",{income},'so tax amount is', {tax})\n",
        "elif income<=50000:\n",
        "  tax= income*0.1\n",
        "  print('10% tax for income', {income},'so tax amount is', {tax})\n",
        "elif income<=100000:\n",
        "  tax=income*0.2\n",
        "  print('20% tax for income', {income},'so tax amount is', {tax})\n",
        "elif income>100000:\n",
        "  tax=income*0.3\n",
        "  print('30% tax for income', {income},'so tax amount is', {tax})"
      ],
      "metadata": {
        "colab": {
          "base_uri": "https://localhost:8080/"
        },
        "id": "ddB1tGrXIU-1",
        "outputId": "16e3587b-2631-423a-dbc5-31572fcab06e"
      },
      "execution_count": 6,
      "outputs": [
        {
          "output_type": "stream",
          "name": "stdout",
          "text": [
            "50002\n",
            "20% tax for income {50002} so tax amount is {10000.400000000001}\n"
          ]
        }
      ]
    },
    {
      "cell_type": "code",
      "source": [
        "#4. Write a Python Program classify_age that takes an age as input and returns a string that describes the age group the person belongs to using the following scale:\n",
        "#age <= 12: \"Child\"\n",
        "#13 <= age <= 19: \"Teenager\"\n",
        "#20 <= age <= 64: \"Adult\"\n",
        "#age >= 65: \"Senior\"\n",
        "age=int(input())\n",
        "if age<=12:\n",
        "  print(\"Child\")\n",
        "elif age<20:\n",
        "  print(\"Teenager\")\n",
        "elif age<65:\n",
        "  print(\"Adult\")\n",
        "elif age>64:\n",
        "  print('Senior')\n",
        "\n"
      ],
      "metadata": {
        "colab": {
          "base_uri": "https://localhost:8080/"
        },
        "id": "Lrl-r-zTMNcU",
        "outputId": "84c41c47-59de-431a-a38e-3de08f2b05e9"
      },
      "execution_count": 8,
      "outputs": [
        {
          "output_type": "stream",
          "name": "stdout",
          "text": [
            "20\n",
            "Adult\n"
          ]
        }
      ]
    },
    {
      "cell_type": "code",
      "source": [
        "#5. Write a Python Program calculate_hypotenuse that takes the length of two sides of a right triangle and returns the length of the hypotenuse,\n",
        "#using the Pythagorean theorem:\n",
        "#h^2 = a^2 + b^2\n",
        "#Where h is the length of the hypotenuse, and a and b are the lengths of the other two sides.\n",
        "import math as m\n",
        "a=float(input())\n",
        "b=float(input())\n",
        "h=m.sqrt(a**2+b**2)\n",
        "print(h)\n"
      ],
      "metadata": {
        "colab": {
          "base_uri": "https://localhost:8080/"
        },
        "id": "WfZ4wMdwA0y0",
        "outputId": "7797904e-a8ea-4a9a-9680-546e48b43787"
      },
      "execution_count": 2,
      "outputs": [
        {
          "output_type": "stream",
          "name": "stdout",
          "text": [
            "10\n",
            "20\n",
            "22.360679774997898\n"
          ]
        }
      ]
    },
    {
      "cell_type": "code",
      "source": [],
      "metadata": {
        "id": "M_-Imr0ExCh8"
      },
      "execution_count": null,
      "outputs": []
    },
    {
      "cell_type": "code",
      "source": [],
      "metadata": {
        "id": "Yx8JiVFtNloE"
      },
      "execution_count": null,
      "outputs": []
    }
  ]
}