{
  "cells": [
    {
      "cell_type": "markdown",
      "metadata": {
        "id": "view-in-github",
        "colab_type": "text"
      },
      "source": [
        "<a href=\"https://colab.research.google.com/github/ViswaTeji/Python-Assignments-sep21/blob/main/Python_101_Week_2_Assignment.ipynb\" target=\"_parent\"><img src=\"https://colab.research.google.com/assets/colab-badge.svg\" alt=\"Open In Colab\"/></a>"
      ]
    },
    {
      "cell_type": "markdown",
      "metadata": {
        "nbgrader": {
          "grade": false,
          "grade_id": "cell-39806162dd625703",
          "locked": true,
          "schema_version": 3,
          "solution": false,
          "task": false
        },
        "id": "_EHF4IQ2JBxu"
      },
      "source": [
        "# Python Foundation Assignment 02 (Mandatory)"
      ]
    },
    {
      "cell_type": "markdown",
      "metadata": {
        "nbgrader": {
          "grade": false,
          "grade_id": "Q1",
          "locked": true,
          "schema_version": 3,
          "solution": false,
          "task": false
        },
        "id": "8P4zN6RTJBxy"
      },
      "source": [
        "### 1. String Manipulation\n",
        "\n",
        "Match the following string methods with the respective output in the below options\n",
        "\n",
        "Here,\n",
        " `string= \"this is old python course\"`"
      ]
    },
    {
      "cell_type": "markdown",
      "metadata": {
        "id": "-yyLRSlkJBxz"
      },
      "source": [
        "| Statement | Output |\n",
        "| --- | --- |\n",
        "| (a) string.count(\"is\") | (1) True |\n",
        "| (b) string.replace(\"old\", \"new\") | (2) 12 |\n",
        "| (c) string.index(\"python\") | (3) 'this is new python course' |\n",
        "| (d) string.startswith(\"this\") | (4) 2 |\n",
        "| (e) string.isalnum() | (5) False |\n",
        "| (g) string.strip(\"this is old\") | (6) 'python course' |"
      ]
    },
    {
      "cell_type": "markdown",
      "metadata": {
        "nbgrader": {
          "grade": true,
          "grade_id": "A1",
          "locked": false,
          "points": 2,
          "schema_version": 3,
          "solution": true,
          "task": false
        },
        "id": "GPIDRqvXJBxz"
      },
      "source": [
        "#YOUR ANSWER HERE"
      ]
    },
    {
      "cell_type": "code",
      "source": [
        "string= \"this is old python course\"\n",
        "print(string.startswith(\"this\"))\n",
        "print(string.index(\"python\"))\n",
        "print(string.replace(\"old\", \"new\"))\n",
        "print(string.count(\"is\"))\n",
        "print(string.isalnum())\n",
        "print(string.strip(\"this is old\"))"
      ],
      "metadata": {
        "id": "R6FMB77P1-dx",
        "colab": {
          "base_uri": "https://localhost:8080/"
        },
        "outputId": "7f27b1ca-ce1e-4c09-8920-8ea0774f2eaf"
      },
      "execution_count": 2,
      "outputs": [
        {
          "output_type": "stream",
          "name": "stdout",
          "text": [
            "True\n",
            "12\n",
            "this is new python course\n",
            "2\n",
            "False\n",
            "python course\n"
          ]
        }
      ]
    },
    {
      "cell_type": "markdown",
      "metadata": {
        "nbgrader": {
          "grade": false,
          "grade_id": "cell-a13189a026c3771d",
          "locked": true,
          "schema_version": 3,
          "solution": false,
          "task": false
        },
        "id": "zqV0AfIAJBx0"
      },
      "source": [
        "### 2 Nested Conditions\n",
        "\n",
        "\n"
      ]
    },
    {
      "cell_type": "code",
      "execution_count": 3,
      "metadata": {
        "id": "jPs-qepZJBx0",
        "colab": {
          "base_uri": "https://localhost:8080/"
        },
        "outputId": "19ef8650-2cd8-4ced-812e-761beb9af59e"
      },
      "outputs": [
        {
          "output_type": "stream",
          "name": "stdout",
          "text": [
            "-1\n",
            "4\n",
            "1\n",
            "P2\n",
            "N1\n"
          ]
        }
      ],
      "source": [
        "x = int(input())\n",
        "y = int(input())\n",
        "z = int(input())\n",
        "\n",
        "#Block-1 Start\n",
        "\n",
        "if x > 0 or y> 0 or z > 0:\n",
        "    if (x > 0 and y> 0) or (y> 0 and z> 0) or (z> 0 and x > 0):\n",
        "        if x > 0 and y> 0 and z > 0:\n",
        "            print('P3')\n",
        "        else:\n",
        "            print('P2')\n",
        "    else:\n",
        "        print('P1')\n",
        "\n",
        "#Block-1 End\n",
        "\n",
        "\n",
        "# Block-2 Start\n",
        "\n",
        "if x <0 or y<0 or z < 0:\n",
        "    if (x < 0 and y< 0) or (y< 0 and z< 0) or (z< 0 and x < 0):\n",
        "            if x < 0 and y< 0 and z < 0:\n",
        "                print('N3')\n",
        "            else:\n",
        "                print('N2')\n",
        "    else:\n",
        "        print('N1')\n",
        "\n",
        "\n",
        "#Block-2 End"
      ]
    },
    {
      "cell_type": "markdown",
      "metadata": {
        "id": "4T0VxZnhJBx1"
      },
      "source": [
        "What will be the output for the below input of x,y and z?\n",
        "\n",
        "x= -1\n",
        "y= 4\n",
        "z= 1"
      ]
    },
    {
      "cell_type": "markdown",
      "metadata": {
        "nbgrader": {
          "grade": true,
          "grade_id": "cell-5b0ec5b5f53b7705",
          "locked": false,
          "points": 2,
          "schema_version": 3,
          "solution": true,
          "task": false
        },
        "id": "DDSnUbnDJBx2"
      },
      "source": [
        "#YOUR ANSWER HERE"
      ]
    },
    {
      "cell_type": "markdown",
      "source": [],
      "metadata": {
        "id": "rQz2lHK-reZy"
      }
    },
    {
      "cell_type": "markdown",
      "metadata": {
        "nbgrader": {
          "grade": false,
          "grade_id": "Q2",
          "locked": true,
          "schema_version": 3,
          "solution": false,
          "task": false
        },
        "id": "62D8vhvzJBx2"
      },
      "source": [
        "### 3. String slicing\n"
      ]
    },
    {
      "cell_type": "code",
      "execution_count": 9,
      "metadata": {
        "id": "LwohAZBzJBx3",
        "colab": {
          "base_uri": "https://localhost:8080/"
        },
        "outputId": "0306fb39-fb31-40bd-b90d-31806034efdb"
      },
      "outputs": [
        {
          "output_type": "stream",
          "name": "stdout",
          "text": [
            "1\n",
            "3\n",
            "-1\n",
            "0\n",
            "0\n",
            "zwtqnkheb\n",
            "zwtqnkheb\n",
            "zwtqnkheb\n",
            "zwtqnkheb\n",
            "zwtqnkheb\n"
          ]
        }
      ],
      "source": [
        "a = int(input())\n",
        "\n",
        "b= int(input())\n",
        "\n",
        "c= int(input())\n",
        "\n",
        "d = int(input())\n",
        "\n",
        "e = int(input())\n",
        "\n",
        "print(s[-a:-len(s):-3])\n",
        "\n",
        "print (s[::-b])\n",
        "\n",
        "print (s[c:0:-3])\n",
        "\n",
        "print (s[len(s): - d:-3])\n",
        "\n",
        "print (s[:e:-3])"
      ]
    },
    {
      "cell_type": "markdown",
      "metadata": {
        "nbgrader": {
          "grade": true,
          "grade_id": "A2",
          "locked": false,
          "points": 2,
          "schema_version": 3,
          "solution": true,
          "task": false
        },
        "id": "eWyswxOPJBx3"
      },
      "source": [
        "Consider that the string `s='abcdefghijklmnopqrstuvwxyz'`\\\n",
        "For what user input of a, b, c, d and e (where 0 <= a,b,c,d,e< len(s) ) does the above code-snippet print following output?\\\n",
        "It is a Numerical Answer Type (NAT) question. Enter your input value separated by, without any space like: 7,15,0,4,0\n",
        "\n",
        "`zwtqnkheb`\n",
        "\n",
        "`zwtqnkheb`\n",
        "\n",
        "`zwtqnkheb`\n",
        "\n",
        "`zwtqnkheb`\n",
        "\n",
        "`zwtqnkheb`"
      ]
    },
    {
      "cell_type": "code",
      "execution_count": 7,
      "metadata": {
        "nbgrader": {
          "grade": false,
          "grade_id": "cell-c583dcd635f03dab",
          "locked": true,
          "schema_version": 3,
          "solution": false,
          "task": false
        },
        "id": "i7rD4nKXJBx3",
        "colab": {
          "base_uri": "https://localhost:8080/"
        },
        "outputId": "4a49f259-5e66-436c-f69f-85e09fc8e39a"
      },
      "outputs": [
        {
          "output_type": "stream",
          "name": "stdout",
          "text": [
            "zwtqnkheb\n",
            "zwtqnkheb\n",
            "zwtqnkheb\n",
            "zwtqnkheb\n",
            "zwtqnkheb\n"
          ]
        }
      ],
      "source": [
        "#YOUR ANSWERE HERE\n",
        "s='abcdefghijklmnopqrstuvwxyz'\n",
        "print(s[-1:-len(s):-3])\n",
        "\n",
        "print (s[::-3])\n",
        "\n",
        "print (s[-1:0:-3])\n",
        "\n",
        "print (s[len(s): 0:-3])\n",
        "\n",
        "print (s[:0:-3])"
      ]
    },
    {
      "cell_type": "markdown",
      "metadata": {
        "nbgrader": {
          "grade": false,
          "grade_id": "Q3",
          "locked": true,
          "schema_version": 3,
          "solution": false,
          "task": false
        },
        "id": "M1ojkWmAJBx4"
      },
      "source": [
        "### 4. Code Brackets\n",
        "\n",
        "Consider the program in the code cell below;"
      ]
    },
    {
      "cell_type": "code",
      "execution_count": 10,
      "metadata": {
        "id": "UhvWzEEBJBx4"
      },
      "outputs": [],
      "source": [
        "match= False\n",
        "if s.count('(') == s.count(')'):\n",
        "    if s.count('{') == s.count('}'):\n",
        "        if s.count('[') == s.count(']'):\n",
        "            match = True"
      ]
    },
    {
      "cell_type": "markdown",
      "metadata": {
        "nbgrader": {
          "grade": true,
          "grade_id": "A3",
          "locked": false,
          "points": 2,
          "schema_version": 3,
          "solution": true,
          "task": false
        },
        "id": "eQlX-sJnJBx4"
      },
      "source": [
        "If s = \"abcd(efgh(ijkl}{{}))\" what will be the value of match at the end of execution and justification?\n",
        "\n",
        "1. False, the number of opening and closing brackets are only considered\n",
        "2. False, the position of opening and closing brackets are not considered.\n",
        "3. True, the number of opening and closing brackets are only considered\n",
        "4. True, the number and position of opening and closing brackets are considered.\n"
      ]
    },
    {
      "cell_type": "code",
      "execution_count": 12,
      "metadata": {
        "nbgrader": {
          "grade": false,
          "grade_id": "cell-f0e0b9c35862e705",
          "locked": true,
          "schema_version": 3,
          "solution": false,
          "task": false
        },
        "id": "gtJFxDVnJBx5",
        "colab": {
          "base_uri": "https://localhost:8080/"
        },
        "outputId": "4a430d57-1dfd-481f-90a0-1f9f069803ac"
      },
      "outputs": [
        {
          "output_type": "stream",
          "name": "stdout",
          "text": [
            "True\n"
          ]
        }
      ],
      "source": [
        "#YOUR ANSWER HERE\n",
        "s = \"abcd(efgh(ijkl}{{}))\"\n",
        "match= False\n",
        "if s.count('(') == s.count(')'):\n",
        "    if s.count('{') == s.count('}'):\n",
        "        if s.count('[') == s.count(']'):\n",
        "            match = True\n",
        "print(match) #True, the number of opening and closing brackets are only considered"
      ]
    },
    {
      "cell_type": "code",
      "source": [],
      "metadata": {
        "id": "ADnd0bEO2umm"
      },
      "execution_count": null,
      "outputs": []
    },
    {
      "cell_type": "markdown",
      "metadata": {
        "id": "lk08MJbdJBx5"
      },
      "source": [
        "## Programming Questions\n",
        "\n",
        "Instructions:\n",
        "- Enter your solution in the cell block below only. Double click to edit.\n",
        "- Do not edit anything else apart from 'YOUR ANSWER HERE' for your solution"
      ]
    },
    {
      "cell_type": "code",
      "execution_count": null,
      "metadata": {
        "id": "S9OHQBnNJBx5"
      },
      "outputs": [],
      "source": [
        "#YOUR ANSWER HERE"
      ]
    },
    {
      "cell_type": "markdown",
      "metadata": {
        "id": "P4SRa2CBJBx5"
      },
      "source": [
        "### 1. Accept a sentence as input and find the number of words in it. Assume that the sentence has no punctuation marks\n",
        "\n",
        "\n",
        "Example:\n",
        "\n",
        "what a shot - 3 words\n",
        "\n",
        "this is a chair - 4 words"
      ]
    },
    {
      "cell_type": "code",
      "execution_count": 19,
      "metadata": {
        "id": "g-wxgrl2JBx6",
        "colab": {
          "base_uri": "https://localhost:8080/"
        },
        "outputId": "6dd44bd4-de09-41b7-e3ea-8bcb8cf4963f"
      },
      "outputs": [
        {
          "output_type": "execute_result",
          "data": {
            "text/plain": [
              "3"
            ]
          },
          "metadata": {},
          "execution_count": 19
        }
      ],
      "source": [
        "#YOUR ANSWER HERE\n",
        "sentence=\"what a shot\"\n",
        "words=sentence.split(\" \")\n",
        "type(words)\n",
        "len(words)\n"
      ]
    },
    {
      "cell_type": "markdown",
      "metadata": {
        "id": "LRy-8dqBJBx6"
      },
      "source": [
        "### 2. Sandwich number\n",
        "\n",
        "A three digit number is called a sandwich number if the difference between its first and last digit is equal to its middle digit. Accept a three digit number as input and print “sandwich” if the number is a sandwich number. Print “plain” if the number is not a sandwich number. For example, 123 and 853 are sandwich numbers."
      ]
    },
    {
      "cell_type": "code",
      "execution_count": 30,
      "metadata": {
        "id": "OL4cliWGJBx6",
        "colab": {
          "base_uri": "https://localhost:8080/"
        },
        "outputId": "14fc7bfa-9a21-4cb1-b17a-efcbe80e7fc3"
      },
      "outputs": [
        {
          "output_type": "stream",
          "name": "stdout",
          "text": [
            "853\n",
            "plain\n"
          ]
        }
      ],
      "source": [
        "#YOUR ANSWER HERE\n",
        "num=input()\n",
        "\n",
        "if len(num) != 3:\n",
        "\n",
        "    print(\"Invalid input. Please enter a three-digit number.\")\n",
        "else:\n",
        "  if int(num[1])==int(num[2])-int(num[0]):\n",
        "    print(\"sandwich\")\n",
        "  else:\n",
        "    print(\"plain\")\n"
      ]
    },
    {
      "cell_type": "markdown",
      "metadata": {
        "id": "4fQCvNXySMDu"
      },
      "source": [
        "### 3. User Score\n",
        "\n",
        "You are a forum admin. You wish to find out the total score of each user using the scoring logic given below. If the user scores more than 50, then the user is given a Leader badge, otherwise a Basic badge is given."
      ]
    },
    {
      "cell_type": "markdown",
      "metadata": {
        "id": "46rX_JCLSMDu"
      },
      "source": [
        "| Action | Points |\n",
        "| --- | --- |\n",
        "| read a post | 1 |\n",
        "| replied to a post | 3 |\n",
        "| created a new post | 5 |"
      ]
    },
    {
      "cell_type": "markdown",
      "metadata": {
        "id": "uBZku-_ASMDu"
      },
      "source": [
        "Implement the body of the function `user_score`. The function accepts 3 integer arguments- `read_count, reply_count, new_post_count`. It calculates the score based on the input counts and returns `Leader` or `Basic`."
      ]
    },
    {
      "cell_type": "code",
      "execution_count": 32,
      "metadata": {
        "id": "nD1sgImRSMDv",
        "colab": {
          "base_uri": "https://localhost:8080/"
        },
        "outputId": "5ad6889c-033f-42ad-bb8f-6ee4c6f31781"
      },
      "outputs": [
        {
          "output_type": "stream",
          "name": "stdout",
          "text": [
            "Leader badge\n",
            "Basic badge\n"
          ]
        }
      ],
      "source": [
        "def user_score(read_count, reply_count, new_post_count):\n",
        "    score = 1 * read_count + 3 * reply_count + 5 * new_post_count\n",
        "    #Write Function Body\n",
        "    #YOUR ANSWER HERE\n",
        "    if score>50:\n",
        "      print(\"Leader badge\")\n",
        "    else:\n",
        "      print(\"Basic badge\")\n",
        "user_score(34,13,5)\n",
        "user_score(3,1,1)"
      ]
    }
  ],
  "metadata": {
    "celltoolbar": "Create Assignment",
    "kernelspec": {
      "display_name": "Python 3 (ipykernel)",
      "language": "python",
      "name": "python3"
    },
    "language_info": {
      "codemirror_mode": {
        "name": "ipython",
        "version": 3
      },
      "file_extension": ".py",
      "mimetype": "text/x-python",
      "name": "python",
      "nbconvert_exporter": "python",
      "pygments_lexer": "ipython3",
      "version": "3.9.12"
    },
    "toc": {
      "base_numbering": 1,
      "nav_menu": {},
      "number_sections": true,
      "sideBar": true,
      "skip_h1_title": false,
      "title_cell": "Table of Contents",
      "title_sidebar": "Contents",
      "toc_cell": false,
      "toc_position": {},
      "toc_section_display": true,
      "toc_window_display": false
    },
    "varInspector": {
      "cols": {
        "lenName": 16,
        "lenType": 16,
        "lenVar": 40
      },
      "kernels_config": {
        "python": {
          "delete_cmd_postfix": "",
          "delete_cmd_prefix": "del ",
          "library": "var_list.py",
          "varRefreshCmd": "print(var_dic_list())"
        },
        "r": {
          "delete_cmd_postfix": ") ",
          "delete_cmd_prefix": "rm(",
          "library": "var_list.r",
          "varRefreshCmd": "cat(var_dic_list()) "
        }
      },
      "types_to_exclude": [
        "module",
        "function",
        "builtin_function_or_method",
        "instance",
        "_Feature"
      ],
      "window_display": false
    },
    "colab": {
      "provenance": [],
      "include_colab_link": true
    }
  },
  "nbformat": 4,
  "nbformat_minor": 0
}